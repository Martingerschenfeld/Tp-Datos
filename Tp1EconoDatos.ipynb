{
  "nbformat": 4,
  "nbformat_minor": 0,
  "metadata": {
    "colab": {
      "name": "Tp1EconoDatos.ipynb",
      "provenance": [],
      "collapsed_sections": []
    },
    "kernelspec": {
      "name": "python3",
      "display_name": "Python 3"
    }
  },
  "cells": [
    {
      "cell_type": "code",
      "metadata": {
        "id": "FIFxh84cosy4",
        "colab_type": "code",
        "colab": {}
      },
      "source": [
        ""
      ],
      "execution_count": 0,
      "outputs": []
    },
    {
      "cell_type": "code",
      "metadata": {
        "id": "2C0U3Qw0nfDx",
        "colab_type": "code",
        "outputId": "22382b93-551e-4b3d-8778-ceae47f22c94",
        "colab": {
          "base_uri": "https://localhost:8080/",
          "height": 219
        }
      },
      "source": [
        "!pip install tweepy"
      ],
      "execution_count": 127,
      "outputs": [
        {
          "output_type": "stream",
          "text": [
            "Requirement already satisfied: tweepy in /usr/local/lib/python3.6/dist-packages (3.6.0)\n",
            "Requirement already satisfied: PySocks>=1.5.7 in /usr/local/lib/python3.6/dist-packages (from tweepy) (1.7.1)\n",
            "Requirement already satisfied: six>=1.10.0 in /usr/local/lib/python3.6/dist-packages (from tweepy) (1.12.0)\n",
            "Requirement already satisfied: requests>=2.11.1 in /usr/local/lib/python3.6/dist-packages (from tweepy) (2.23.0)\n",
            "Requirement already satisfied: requests-oauthlib>=0.7.0 in /usr/local/lib/python3.6/dist-packages (from tweepy) (1.3.0)\n",
            "Requirement already satisfied: idna<3,>=2.5 in /usr/local/lib/python3.6/dist-packages (from requests>=2.11.1->tweepy) (2.9)\n",
            "Requirement already satisfied: urllib3!=1.25.0,!=1.25.1,<1.26,>=1.21.1 in /usr/local/lib/python3.6/dist-packages (from requests>=2.11.1->tweepy) (1.24.3)\n",
            "Requirement already satisfied: chardet<4,>=3.0.2 in /usr/local/lib/python3.6/dist-packages (from requests>=2.11.1->tweepy) (3.0.4)\n",
            "Requirement already satisfied: certifi>=2017.4.17 in /usr/local/lib/python3.6/dist-packages (from requests>=2.11.1->tweepy) (2020.4.5.1)\n",
            "Requirement already satisfied: oauthlib>=3.0.0 in /usr/local/lib/python3.6/dist-packages (from requests-oauthlib>=0.7.0->tweepy) (3.1.0)\n"
          ],
          "name": "stdout"
        }
      ]
    },
    {
      "cell_type": "markdown",
      "metadata": {
        "id": "j46yt47QTFws",
        "colab_type": "text"
      },
      "source": [
        "Paquetes necesarios para ejecutar el archivo\n"
      ]
    },
    {
      "cell_type": "code",
      "metadata": {
        "id": "BxjDLh3u5rO1",
        "colab_type": "code",
        "colab": {}
      },
      "source": [
        "import pandas as pd\n",
        "import numpy as np\n",
        "import matplotlib.pyplot as plt\n",
        "import seaborn as sns\n",
        "import re as re\n",
        "import tweepy as tw\n",
        "import itertools\n",
        "from collections import OrderedDict"
      ],
      "execution_count": 0,
      "outputs": []
    },
    {
      "cell_type": "code",
      "metadata": {
        "id": "UkUiaDJgK5MD",
        "colab_type": "code",
        "outputId": "f130863c-273a-48c3-fb04-bc78e0c99694",
        "colab": {
          "base_uri": "https://localhost:8080/",
          "height": 35
        }
      },
      "source": [
        "from google.colab import drive\n",
        "drive.mount('/content/drive')"
      ],
      "execution_count": 129,
      "outputs": [
        {
          "output_type": "stream",
          "text": [
            "Drive already mounted at /content/drive; to attempt to forcibly remount, call drive.mount(\"/content/drive\", force_remount=True).\n"
          ],
          "name": "stdout"
        }
      ]
    },
    {
      "cell_type": "code",
      "metadata": {
        "id": "2Qtj7rigLHIr",
        "colab_type": "code",
        "outputId": "a2fbc561-a82f-476c-8da1-31a3778e48b3",
        "colab": {
          "base_uri": "https://localhost:8080/",
          "height": 407
        }
      },
      "source": [
        "df_twitter = pd.read_csv('/content/drive/My Drive/Org_datos/train.csv', sep=',', header=0)\n",
        "df_twitter['target']\n",
        "display(df_twitter)\n"
      ],
      "execution_count": 130,
      "outputs": [
        {
          "output_type": "display_data",
          "data": {
            "text/html": [
              "<div>\n",
              "<style scoped>\n",
              "    .dataframe tbody tr th:only-of-type {\n",
              "        vertical-align: middle;\n",
              "    }\n",
              "\n",
              "    .dataframe tbody tr th {\n",
              "        vertical-align: top;\n",
              "    }\n",
              "\n",
              "    .dataframe thead th {\n",
              "        text-align: right;\n",
              "    }\n",
              "</style>\n",
              "<table border=\"1\" class=\"dataframe\">\n",
              "  <thead>\n",
              "    <tr style=\"text-align: right;\">\n",
              "      <th></th>\n",
              "      <th>id</th>\n",
              "      <th>keyword</th>\n",
              "      <th>location</th>\n",
              "      <th>text</th>\n",
              "      <th>target</th>\n",
              "    </tr>\n",
              "  </thead>\n",
              "  <tbody>\n",
              "    <tr>\n",
              "      <th>0</th>\n",
              "      <td>1</td>\n",
              "      <td>NaN</td>\n",
              "      <td>NaN</td>\n",
              "      <td>Our Deeds are the Reason of this #earthquake M...</td>\n",
              "      <td>1</td>\n",
              "    </tr>\n",
              "    <tr>\n",
              "      <th>1</th>\n",
              "      <td>4</td>\n",
              "      <td>NaN</td>\n",
              "      <td>NaN</td>\n",
              "      <td>Forest fire near La Ronge Sask. Canada</td>\n",
              "      <td>1</td>\n",
              "    </tr>\n",
              "    <tr>\n",
              "      <th>2</th>\n",
              "      <td>5</td>\n",
              "      <td>NaN</td>\n",
              "      <td>NaN</td>\n",
              "      <td>All residents asked to 'shelter in place' are ...</td>\n",
              "      <td>1</td>\n",
              "    </tr>\n",
              "    <tr>\n",
              "      <th>3</th>\n",
              "      <td>6</td>\n",
              "      <td>NaN</td>\n",
              "      <td>NaN</td>\n",
              "      <td>13,000 people receive #wildfires evacuation or...</td>\n",
              "      <td>1</td>\n",
              "    </tr>\n",
              "    <tr>\n",
              "      <th>4</th>\n",
              "      <td>7</td>\n",
              "      <td>NaN</td>\n",
              "      <td>NaN</td>\n",
              "      <td>Just got sent this photo from Ruby #Alaska as ...</td>\n",
              "      <td>1</td>\n",
              "    </tr>\n",
              "    <tr>\n",
              "      <th>...</th>\n",
              "      <td>...</td>\n",
              "      <td>...</td>\n",
              "      <td>...</td>\n",
              "      <td>...</td>\n",
              "      <td>...</td>\n",
              "    </tr>\n",
              "    <tr>\n",
              "      <th>7608</th>\n",
              "      <td>10869</td>\n",
              "      <td>NaN</td>\n",
              "      <td>NaN</td>\n",
              "      <td>Two giant cranes holding a bridge collapse int...</td>\n",
              "      <td>1</td>\n",
              "    </tr>\n",
              "    <tr>\n",
              "      <th>7609</th>\n",
              "      <td>10870</td>\n",
              "      <td>NaN</td>\n",
              "      <td>NaN</td>\n",
              "      <td>@aria_ahrary @TheTawniest The out of control w...</td>\n",
              "      <td>1</td>\n",
              "    </tr>\n",
              "    <tr>\n",
              "      <th>7610</th>\n",
              "      <td>10871</td>\n",
              "      <td>NaN</td>\n",
              "      <td>NaN</td>\n",
              "      <td>M1.94 [01:04 UTC]?5km S of Volcano Hawaii. htt...</td>\n",
              "      <td>1</td>\n",
              "    </tr>\n",
              "    <tr>\n",
              "      <th>7611</th>\n",
              "      <td>10872</td>\n",
              "      <td>NaN</td>\n",
              "      <td>NaN</td>\n",
              "      <td>Police investigating after an e-bike collided ...</td>\n",
              "      <td>1</td>\n",
              "    </tr>\n",
              "    <tr>\n",
              "      <th>7612</th>\n",
              "      <td>10873</td>\n",
              "      <td>NaN</td>\n",
              "      <td>NaN</td>\n",
              "      <td>The Latest: More Homes Razed by Northern Calif...</td>\n",
              "      <td>1</td>\n",
              "    </tr>\n",
              "  </tbody>\n",
              "</table>\n",
              "<p>7613 rows × 5 columns</p>\n",
              "</div>"
            ],
            "text/plain": [
              "         id keyword  ...                                               text target\n",
              "0         1     NaN  ...  Our Deeds are the Reason of this #earthquake M...      1\n",
              "1         4     NaN  ...             Forest fire near La Ronge Sask. Canada      1\n",
              "2         5     NaN  ...  All residents asked to 'shelter in place' are ...      1\n",
              "3         6     NaN  ...  13,000 people receive #wildfires evacuation or...      1\n",
              "4         7     NaN  ...  Just got sent this photo from Ruby #Alaska as ...      1\n",
              "...     ...     ...  ...                                                ...    ...\n",
              "7608  10869     NaN  ...  Two giant cranes holding a bridge collapse int...      1\n",
              "7609  10870     NaN  ...  @aria_ahrary @TheTawniest The out of control w...      1\n",
              "7610  10871     NaN  ...  M1.94 [01:04 UTC]?5km S of Volcano Hawaii. htt...      1\n",
              "7611  10872     NaN  ...  Police investigating after an e-bike collided ...      1\n",
              "7612  10873     NaN  ...  The Latest: More Homes Razed by Northern Calif...      1\n",
              "\n",
              "[7613 rows x 5 columns]"
            ]
          },
          "metadata": {
            "tags": []
          }
        }
      ]
    },
    {
      "cell_type": "markdown",
      "metadata": {
        "id": "TkcnzQq2TOEp",
        "colab_type": "text"
      },
      "source": [
        "Análisis Exploratorio de Datos"
      ]
    },
    {
      "cell_type": "code",
      "metadata": {
        "id": "wpcj36T5MBl-",
        "colab_type": "code",
        "outputId": "9f8ad1a4-e06d-41df-9b18-c0732b5220c2",
        "colab": {
          "base_uri": "https://localhost:8080/",
          "height": 235
        }
      },
      "source": [
        "# Information about the dataset\n",
        "df_twitter.info()"
      ],
      "execution_count": 131,
      "outputs": [
        {
          "output_type": "stream",
          "text": [
            "<class 'pandas.core.frame.DataFrame'>\n",
            "RangeIndex: 7613 entries, 0 to 7612\n",
            "Data columns (total 5 columns):\n",
            " #   Column    Non-Null Count  Dtype \n",
            "---  ------    --------------  ----- \n",
            " 0   id        7613 non-null   int64 \n",
            " 1   keyword   7552 non-null   object\n",
            " 2   location  5080 non-null   object\n",
            " 3   text      7613 non-null   object\n",
            " 4   target    7613 non-null   int64 \n",
            "dtypes: int64(2), object(3)\n",
            "memory usage: 297.5+ KB\n"
          ],
          "name": "stdout"
        }
      ]
    },
    {
      "cell_type": "markdown",
      "metadata": {
        "id": "LZESa-pLickH",
        "colab_type": "text"
      },
      "source": [
        "#Veo la dimension del dataframe\n"
      ]
    },
    {
      "cell_type": "code",
      "metadata": {
        "id": "m1QFuJl_rCxI",
        "colab_type": "code",
        "outputId": "4dec7304-ca43-46ec-b91b-04eec66d058a",
        "colab": {
          "base_uri": "https://localhost:8080/",
          "height": 35
        }
      },
      "source": [
        "#veo la dimension del dataframe\n",
        "print (df_twitter.shape)"
      ],
      "execution_count": 132,
      "outputs": [
        {
          "output_type": "stream",
          "text": [
            "(7613, 5)\n"
          ],
          "name": "stdout"
        }
      ]
    },
    {
      "cell_type": "markdown",
      "metadata": {
        "id": "tWaeBUUjiJb-",
        "colab_type": "text"
      },
      "source": [
        "#Cuento las cantidades de datos no nulos que tiene por columna\n"
      ]
    },
    {
      "cell_type": "code",
      "metadata": {
        "id": "v1UcmaRZ8rBj",
        "colab_type": "code",
        "outputId": "9be5e17f-f438-40f9-d618-b9907a1e4743",
        "colab": {
          "base_uri": "https://localhost:8080/",
          "height": 126
        }
      },
      "source": [
        "  #cuento las cantidades de datos no nulos que tiene por columna\n",
        "df_twitter.count ()"
      ],
      "execution_count": 133,
      "outputs": [
        {
          "output_type": "execute_result",
          "data": {
            "text/plain": [
              "id          7613\n",
              "keyword     7552\n",
              "location    5080\n",
              "text        7613\n",
              "target      7613\n",
              "dtype: int64"
            ]
          },
          "metadata": {
            "tags": []
          },
          "execution_count": 133
        }
      ]
    },
    {
      "cell_type": "markdown",
      "metadata": {
        "id": "hrR6S80ETVhK",
        "colab_type": "text"
      },
      "source": [
        "## Palabrás Más Utilizadas"
      ]
    },
    {
      "cell_type": "code",
      "metadata": {
        "id": "Oc2j5HwSTMAq",
        "colab_type": "code",
        "outputId": "b165e8dc-a1fb-413f-fbf7-567e6c4c8418",
        "colab": {
          "base_uri": "https://localhost:8080/",
          "height": 345
        }
      },
      "source": [
        "tweets = df_twitter.text.tolist()\n",
        "tweets_token = []\n",
        "for i in range(0,df_twitter.text.count()):\n",
        "  tweet_split = tweets[i].split()\n",
        "  tweets_token.append(tweet_split)  \n",
        "\n",
        "tweets_token_list  = [token for sublist in tweets_token for token in sublist]\n",
        "tweets_token_list = [x.lower() for x in tweets_token_list]\n",
        "\n",
        "\n",
        "unique_words = {}\n",
        "for tweet in tweets_token_list:\n",
        "    if (tweet in unique_words.keys()):\n",
        "          unique_words[tweet] += 1\n",
        "    else:\n",
        "          unique_words[tweet] = 1\n",
        "\n",
        "sorted_tweet = OrderedDict(sorted(unique_words.items(), \n",
        "                                  key=lambda kv: kv[1], reverse=True))\n",
        "\n",
        "list(sorted_tweet.items())[:15]\n",
        "\n",
        "#Nos quedamos con los keys cuyo longitud es mayor a 4\n",
        "unique_words_long4 ={}\n",
        "for key, value in sorted_tweet.items():\n",
        "  if len(key)>4:\n",
        "    unique_words_long4[key] = value\n",
        "\n",
        "#Primeros 15 resultados\n",
        "top15 = dict(list(unique_words_long4.items())[0: 15])\n",
        "plt.bar(top15.keys(), top15.values(), color='g')\n",
        "plt.title(\"Histograma de las Palabras más frecuentes \", fontsize=16)\n",
        "plt.xticks(rotation='vertical')\n",
        "plt.xlabel('Palabras más frecuentes que mayor a 4 letras')\n",
        "plt.ylabel('Frecuencia')\n",
        "plt.show()\n"
      ],
      "execution_count": 134,
      "outputs": [
        {
          "output_type": "display_data",
          "data": {
            "image/png": "[encoded data removed]",
            "text/plain": [
              "<Figure size 432x288 with 1 Axes>"
            ]
          },
          "metadata": {
            "tags": [],
            "needs_background": "light"
          }
        }
      ]
    },
    {
      "cell_type": "code",
      "metadata": {
        "id": "KV7Uc_jd862n",
        "colab_type": "code",
        "colab": {}
      },
      "source": [
        "#analizo las 3 variables, que contienen\n",
        "\n",
        "location = df_twitter['location']\n"
      ],
      "execution_count": 0,
      "outputs": []
    },
    {
      "cell_type": "markdown",
      "metadata": {
        "id": "RRPOvtLATb_R",
        "colab_type": "text"
      },
      "source": [
        "## Análisis por Ubicación "
      ]
    },
    {
      "cell_type": "code",
      "metadata": {
        "id": "w7R-EeHZ-hHk",
        "colab_type": "code",
        "outputId": "b4f41ac3-ab90-4f84-8bcf-bced368fb67b",
        "colab": {
          "base_uri": "https://localhost:8080/",
          "height": 35
        }
      },
      "source": [
        "type (location)"
      ],
      "execution_count": 136,
      "outputs": [
        {
          "output_type": "execute_result",
          "data": {
            "text/plain": [
              "pandas.core.series.Series"
            ]
          },
          "metadata": {
            "tags": []
          },
          "execution_count": 136
        }
      ]
    },
    {
      "cell_type": "code",
      "metadata": {
        "id": "FLQ4vgjJ-uE1",
        "colab_type": "code",
        "outputId": "60af31d0-fb51-4e01-fa49-c456abe0fb84",
        "colab": {
          "base_uri": "https://localhost:8080/",
          "height": 235
        }
      },
      "source": [
        "location.value_counts()"
      ],
      "execution_count": 137,
      "outputs": [
        {
          "output_type": "execute_result",
          "data": {
            "text/plain": [
              "USA                             104\n",
              "New York                         71\n",
              "United States                    50\n",
              "London                           45\n",
              "Canada                           29\n",
              "                               ... \n",
              "JKT48-Muse-A7X                    1\n",
              "kansas                            1\n",
              "staggering on tenement roofs      1\n",
              "Calgary,AB, Canada                1\n",
              "GLOBAL/WORLDWIDE                  1\n",
              "Name: location, Length: 3341, dtype: int64"
            ]
          },
          "metadata": {
            "tags": []
          },
          "execution_count": 137
        }
      ]
    },
    {
      "cell_type": "code",
      "metadata": {
        "id": "pSXSkZjZzcVG",
        "colab_type": "code",
        "outputId": "31136488-cb8b-4fce-f608-d480ea6b6994",
        "colab": {
          "base_uri": "https://localhost:8080/",
          "height": 290
        }
      },
      "source": [
        "country= {'New York':'United States','USA':'United States','Los Angeles, CA':'United States', 'Washington, DC':'United States','Chicago, IL':'United States','California':'United States','California, USA':'United States','New York, NY':'United States','San Francisco':'United States', 'Florida':'United States', 'Washington, D.C.':'United States','Los Angeles':'United States','NYC':'United States','Seattle':'United States','San Francisco, CA':'United States','Chicago':'United States', 'Atlanta, GA':'United States', 'Sacramento, CA':'United States', 'Chicago Area':'United States', 'Los Angles, CA':'United States','Palm Beach County, FL':'United States','Texas':'United States','CA, AZ & NV':'United States', 'Colonial Heights, VA':'United States','New York City':'United States', 'Nashville, TN':'United States', 'US':'United States','San Diego,CA':'United States','Dallas, TX':'United States','Denver, Colorado':'United States','San Diego, CA':'United States','East TN':'United States', 'Houston, TX':'United States', 'Seattle, WA':'United States', 'Chapel Hill, NC':'United States','Austin,TX':'United States','Pennsylvania, USA':'United States', 'Denver, CO':'United States', 'Tennessee':'United States','Austin, TX':'United States','Memphis, TN':'United States','Orlando, FL':'United States','Paterson, New Jersey':'United States','Colorado':'United States','Massachusetts':'United States','Oklahoma City, OK':'United States','Charlotte, NC':'United States','Salt Lake City, Utah':'United States','Paterson, New Jersey':'United States','Portland, OR':'United States','Paterson, New Jersey ':'United Statess','Iliff,Colorado ':'United States','Brookly, NY': 'United States', 'United Statess':'United States','Atlanta':'United States', 'Brooklyn, NY':'United States', 'California, United States':'United States','NY':'United States','Wisconsin':'United States', 'San Jose, CA':'United States','New York, USA':'United States','Souther California':'United States','New Hampshire':'United States', 'Southern California':'United States','Florida, USA':'United States','Pennsylvania':'United States','Cleveland, OH':'United States','Indiana':'United States','Puerto Rico':'United States','Asheville,NC':'United States','Boston, MA':'United States','New Jersey':'United States','North Carolina':'United States','Tampa, FL':'United States','Texas, USA':'United States', 'North Carolina, USA':'United States', 'Midwest':'United States','Asheville, NC':'United States','Maryland':'United States', 'Atlanta Georgia ':'United States', 'San Francisco Bay Area':'United States','Oakland, CA':'United States','Oregon':'United States','Republic of Texas':'United States','Sacramento':'United States','Phoenix, AZ':'United States','Las Vegas, Nevada':'United States','Massachusetts, USA':'United States','U.S.A':'United States','Kansas City':'United States','Michigan':'United States','Portland, Oregon':'United States','Seattle, Washington':'United States','Philadelphia, PA':'United States','Bend, Oregon':'United States','Haddonfield, NJ':'United States','United Statess':'United States',\n",
        "          'London':'United Kingdom','UK':'United Kingdom', 'Ireland':'United Kingdom','Londo, UK':'United Kingdom', 'London, England':'United Kingdom', 'Newport, Wales, UK':'United Kingdom','London, UK':'United Kingdom','Manchester':'United Kingdom', 'Scotland':'United Kingdom', 'Newcastle':'United Kingdom','Coventry':'United Kingdom','Leeds, England':'United Kingdom', 'Edinburgh':'United Kingdom','Paignton':'United Kingdom','Leicester':'United Kingdom','Birmingham':'United Kingdom','Manchester, England':'United Kingdom','london':'United Kingdom','uk':'United Kingdom',\n",
        "          'Mumbai':'India', \"Jakarta/Kuala Lumpur/S'pore\":'India','Mumbai, Maharashtra':'India',\n",
        "          'Toronto':'Canada','Canada ':'Canada','Calgary, Alberta':'Canada','Calgary':'Canada', 'Calgary, AB':'Canada','Vancouver, BC':'Canada','British Columbia, Canada':'Canada', 'canada':'Canada',\n",
        "          'china':'China',\n",
        "          'Santo Domingo Alma Rosa':'Dominica Republic',\n",
        "          'Sydney':'Australia','Melbourne, Australia':'Australia','Melbourne':'Australia', 'Sydney, New South Wales':'Australia','Sydney, Australia':'Australia',\n",
        "          'Morioh, Japan':'Japan','Tokyo':'Japan',\n",
        "          'Brasil':'Brazil',\n",
        "          'Cape Town':'South Africa',\n",
        "          'Lagos':'Nigeria','Lagos, Nigeria':'Nigeria','Port Harcourt, Nigeria':'Nigeria',\n",
        "          'Geneva':'Switzerland',\n",
        "          'Nairobi':'Kenya','Nairobi-KENYA':'Kenya',\n",
        "          'Worldwide': 'NaN','worldwide':'NaN','WorldWide':'NaN','Everywhere': 'NaN','Earth':'NaN', 'ss':'NaN','WonderlandÛÓ ?????? ???? ??????':'NaN','304':'NaN','World':'NaN', 'The Globe':'NaN', '#BlackLivesMatter':'NaN','IDN':'NaN', '??????':'NaN', ' Road to the Billionaires Club':'NaN','Global':'NaN','Planet Earth':'NaN','Pedophile hunting ground':'NaN','in the Word of God':'NaN', '?':'NaN','Happily Married with 2 kids ':'NaN','??':'NaN', '?????':'NaN','MAD as Hell':'NaN'     }\n",
        "location = location.map(country, na_action='ignore').fillna('NaN')\n",
        "print(location.value_counts())"
      ],
      "execution_count": 138,
      "outputs": [
        {
          "output_type": "stream",
          "text": [
            "NaN               6553\n",
            "United States      747\n",
            "United Kingdom     164\n",
            "Canada              41\n",
            "India               30\n",
            "Australia           24\n",
            "Nigeria             14\n",
            "Japan               10\n",
            "Kenya                7\n",
            "United Statess       6\n",
            "Brazil               5\n",
            "Switzerland          4\n",
            "South Africa         4\n",
            "China                4\n",
            "Name: location, dtype: int64\n"
          ],
          "name": "stdout"
        }
      ]
    },
    {
      "cell_type": "code",
      "metadata": {
        "id": "L8u6oxwNBGrc",
        "colab_type": "code",
        "colab": {}
      },
      "source": [
        ""
      ],
      "execution_count": 0,
      "outputs": []
    },
    {
      "cell_type": "markdown",
      "metadata": {
        "id": "pidxxIqJX5R4",
        "colab_type": "text"
      },
      "source": [
        "## Análisis por Longitud del Tweet"
      ]
    },
    {
      "cell_type": "code",
      "metadata": {
        "id": "U9t8ce1eUpAY",
        "colab_type": "code",
        "outputId": "857920c3-ffee-481b-9d71-efb77bbb7341",
        "colab": {
          "base_uri": "https://localhost:8080/",
          "height": 648
        }
      },
      "source": [
        "#dropeo location, y me fijo la longitud de caracteres de cada tweet\n",
        "\n",
        "DF_drop_leng = df_twitter.drop(columns=['location'])\n",
        "DF_drop_leng['leng_tweet'] = df_twitter['text'].str.len()\n",
        "DF_drop_leng.head(20)"
      ],
      "execution_count": 139,
      "outputs": [
        {
          "output_type": "execute_result",
          "data": {
            "text/html": [
              "<div>\n",
              "<style scoped>\n",
              "    .dataframe tbody tr th:only-of-type {\n",
              "        vertical-align: middle;\n",
              "    }\n",
              "\n",
              "    .dataframe tbody tr th {\n",
              "        vertical-align: top;\n",
              "    }\n",
              "\n",
              "    .dataframe thead th {\n",
              "        text-align: right;\n",
              "    }\n",
              "</style>\n",
              "<table border=\"1\" class=\"dataframe\">\n",
              "  <thead>\n",
              "    <tr style=\"text-align: right;\">\n",
              "      <th></th>\n",
              "      <th>id</th>\n",
              "      <th>keyword</th>\n",
              "      <th>text</th>\n",
              "      <th>target</th>\n",
              "      <th>leng_tweet</th>\n",
              "    </tr>\n",
              "  </thead>\n",
              "  <tbody>\n",
              "    <tr>\n",
              "      <th>0</th>\n",
              "      <td>1</td>\n",
              "      <td>NaN</td>\n",
              "      <td>Our Deeds are the Reason of this #earthquake M...</td>\n",
              "      <td>1</td>\n",
              "      <td>69</td>\n",
              "    </tr>\n",
              "    <tr>\n",
              "      <th>1</th>\n",
              "      <td>4</td>\n",
              "      <td>NaN</td>\n",
              "      <td>Forest fire near La Ronge Sask. Canada</td>\n",
              "      <td>1</td>\n",
              "      <td>38</td>\n",
              "    </tr>\n",
              "    <tr>\n",
              "      <th>2</th>\n",
              "      <td>5</td>\n",
              "      <td>NaN</td>\n",
              "      <td>All residents asked to 'shelter in place' are ...</td>\n",
              "      <td>1</td>\n",
              "      <td>133</td>\n",
              "    </tr>\n",
              "    <tr>\n",
              "      <th>3</th>\n",
              "      <td>6</td>\n",
              "      <td>NaN</td>\n",
              "      <td>13,000 people receive #wildfires evacuation or...</td>\n",
              "      <td>1</td>\n",
              "      <td>65</td>\n",
              "    </tr>\n",
              "    <tr>\n",
              "      <th>4</th>\n",
              "      <td>7</td>\n",
              "      <td>NaN</td>\n",
              "      <td>Just got sent this photo from Ruby #Alaska as ...</td>\n",
              "      <td>1</td>\n",
              "      <td>88</td>\n",
              "    </tr>\n",
              "    <tr>\n",
              "      <th>5</th>\n",
              "      <td>8</td>\n",
              "      <td>NaN</td>\n",
              "      <td>#RockyFire Update =&gt; California Hwy. 20 closed...</td>\n",
              "      <td>1</td>\n",
              "      <td>110</td>\n",
              "    </tr>\n",
              "    <tr>\n",
              "      <th>6</th>\n",
              "      <td>10</td>\n",
              "      <td>NaN</td>\n",
              "      <td>#flood #disaster Heavy rain causes flash flood...</td>\n",
              "      <td>1</td>\n",
              "      <td>95</td>\n",
              "    </tr>\n",
              "    <tr>\n",
              "      <th>7</th>\n",
              "      <td>13</td>\n",
              "      <td>NaN</td>\n",
              "      <td>I'm on top of the hill and I can see a fire in...</td>\n",
              "      <td>1</td>\n",
              "      <td>59</td>\n",
              "    </tr>\n",
              "    <tr>\n",
              "      <th>8</th>\n",
              "      <td>14</td>\n",
              "      <td>NaN</td>\n",
              "      <td>There's an emergency evacuation happening now ...</td>\n",
              "      <td>1</td>\n",
              "      <td>79</td>\n",
              "    </tr>\n",
              "    <tr>\n",
              "      <th>9</th>\n",
              "      <td>15</td>\n",
              "      <td>NaN</td>\n",
              "      <td>I'm afraid that the tornado is coming to our a...</td>\n",
              "      <td>1</td>\n",
              "      <td>52</td>\n",
              "    </tr>\n",
              "    <tr>\n",
              "      <th>10</th>\n",
              "      <td>16</td>\n",
              "      <td>NaN</td>\n",
              "      <td>Three people died from the heat wave so far</td>\n",
              "      <td>1</td>\n",
              "      <td>43</td>\n",
              "    </tr>\n",
              "    <tr>\n",
              "      <th>11</th>\n",
              "      <td>17</td>\n",
              "      <td>NaN</td>\n",
              "      <td>Haha South Tampa is getting flooded hah- WAIT ...</td>\n",
              "      <td>1</td>\n",
              "      <td>129</td>\n",
              "    </tr>\n",
              "    <tr>\n",
              "      <th>12</th>\n",
              "      <td>18</td>\n",
              "      <td>NaN</td>\n",
              "      <td>#raining #flooding #Florida #TampaBay #Tampa 1...</td>\n",
              "      <td>1</td>\n",
              "      <td>76</td>\n",
              "    </tr>\n",
              "    <tr>\n",
              "      <th>13</th>\n",
              "      <td>19</td>\n",
              "      <td>NaN</td>\n",
              "      <td>#Flood in Bago Myanmar #We arrived Bago</td>\n",
              "      <td>1</td>\n",
              "      <td>39</td>\n",
              "    </tr>\n",
              "    <tr>\n",
              "      <th>14</th>\n",
              "      <td>20</td>\n",
              "      <td>NaN</td>\n",
              "      <td>Damage to school bus on 80 in multi car crash ...</td>\n",
              "      <td>1</td>\n",
              "      <td>56</td>\n",
              "    </tr>\n",
              "    <tr>\n",
              "      <th>15</th>\n",
              "      <td>23</td>\n",
              "      <td>NaN</td>\n",
              "      <td>What's up man?</td>\n",
              "      <td>0</td>\n",
              "      <td>14</td>\n",
              "    </tr>\n",
              "    <tr>\n",
              "      <th>16</th>\n",
              "      <td>24</td>\n",
              "      <td>NaN</td>\n",
              "      <td>I love fruits</td>\n",
              "      <td>0</td>\n",
              "      <td>13</td>\n",
              "    </tr>\n",
              "    <tr>\n",
              "      <th>17</th>\n",
              "      <td>25</td>\n",
              "      <td>NaN</td>\n",
              "      <td>Summer is lovely</td>\n",
              "      <td>0</td>\n",
              "      <td>16</td>\n",
              "    </tr>\n",
              "    <tr>\n",
              "      <th>18</th>\n",
              "      <td>26</td>\n",
              "      <td>NaN</td>\n",
              "      <td>My car is so fast</td>\n",
              "      <td>0</td>\n",
              "      <td>17</td>\n",
              "    </tr>\n",
              "    <tr>\n",
              "      <th>19</th>\n",
              "      <td>28</td>\n",
              "      <td>NaN</td>\n",
              "      <td>What a goooooooaaaaaal!!!!!!</td>\n",
              "      <td>0</td>\n",
              "      <td>28</td>\n",
              "    </tr>\n",
              "  </tbody>\n",
              "</table>\n",
              "</div>"
            ],
            "text/plain": [
              "    id keyword  ... target  leng_tweet\n",
              "0    1     NaN  ...      1          69\n",
              "1    4     NaN  ...      1          38\n",
              "2    5     NaN  ...      1         133\n",
              "3    6     NaN  ...      1          65\n",
              "4    7     NaN  ...      1          88\n",
              "5    8     NaN  ...      1         110\n",
              "6   10     NaN  ...      1          95\n",
              "7   13     NaN  ...      1          59\n",
              "8   14     NaN  ...      1          79\n",
              "9   15     NaN  ...      1          52\n",
              "10  16     NaN  ...      1          43\n",
              "11  17     NaN  ...      1         129\n",
              "12  18     NaN  ...      1          76\n",
              "13  19     NaN  ...      1          39\n",
              "14  20     NaN  ...      1          56\n",
              "15  23     NaN  ...      0          14\n",
              "16  24     NaN  ...      0          13\n",
              "17  25     NaN  ...      0          16\n",
              "18  26     NaN  ...      0          17\n",
              "19  28     NaN  ...      0          28\n",
              "\n",
              "[20 rows x 5 columns]"
            ]
          },
          "metadata": {
            "tags": []
          },
          "execution_count": 139
        }
      ]
    },
    {
      "cell_type": "code",
      "metadata": {
        "id": "gIpcZ7cILDr5",
        "colab_type": "code",
        "outputId": "cfcae23d-8aa1-43e5-c1a0-5e2564e25718",
        "colab": {
          "base_uri": "https://localhost:8080/",
          "height": 323
        }
      },
      "source": [
        "#######aca hice el histograma de longitud de los tweets, es distinto al de densidad\n",
        "\n",
        "\n",
        "g = DF_drop_leng[\"leng_tweet\"].plot.hist(bins=30, color='skyblue')\n",
        "g.set_title(\"Histograma de longitud de los tweets\", fontsize=16)\n",
        "g.set_xlabel(\"Longitud\",fontsize=18)\n",
        "g.set_ylabel(\"Frecuencia\", fontsize=18)"
      ],
      "execution_count": 140,
      "outputs": [
        {
          "output_type": "execute_result",
          "data": {
            "text/plain": [
              "Text(0, 0.5, 'Frecuencia')"
            ]
          },
          "metadata": {
            "tags": []
          },
          "execution_count": 140
        },
        {
          "output_type": "display_data",
          "data": {
            "image/png": "[encoded data removed]",
            "text/plain": [
              "<Figure size 432x288 with 1 Axes>"
            ]
          },
          "metadata": {
            "tags": [],
            "needs_background": "light"
          }
        }
      ]
    },
    {
      "cell_type": "code",
      "metadata": {
        "id": "34DsNftMLbgT",
        "colab_type": "code",
        "outputId": "821be745-774f-48f3-80de-b03c0b683003",
        "colab": {
          "base_uri": "https://localhost:8080/",
          "height": 168
        }
      },
      "source": [
        "# analizo algunas variables estadisticas\n",
        "\n",
        "gr_by_target = DF_drop_leng.groupby(['target']).agg({'leng_tweet': ['mean', 'count', 'max' , 'min']})\n",
        "gr_by_target.head()"
      ],
      "execution_count": 141,
      "outputs": [
        {
          "output_type": "execute_result",
          "data": {
            "text/html": [
              "<div>\n",
              "<style scoped>\n",
              "    .dataframe tbody tr th:only-of-type {\n",
              "        vertical-align: middle;\n",
              "    }\n",
              "\n",
              "    .dataframe tbody tr th {\n",
              "        vertical-align: top;\n",
              "    }\n",
              "\n",
              "    .dataframe thead tr th {\n",
              "        text-align: left;\n",
              "    }\n",
              "\n",
              "    .dataframe thead tr:last-of-type th {\n",
              "        text-align: right;\n",
              "    }\n",
              "</style>\n",
              "<table border=\"1\" class=\"dataframe\">\n",
              "  <thead>\n",
              "    <tr>\n",
              "      <th></th>\n",
              "      <th colspan=\"4\" halign=\"left\">leng_tweet</th>\n",
              "    </tr>\n",
              "    <tr>\n",
              "      <th></th>\n",
              "      <th>mean</th>\n",
              "      <th>count</th>\n",
              "      <th>max</th>\n",
              "      <th>min</th>\n",
              "    </tr>\n",
              "    <tr>\n",
              "      <th>target</th>\n",
              "      <th></th>\n",
              "      <th></th>\n",
              "      <th></th>\n",
              "      <th></th>\n",
              "    </tr>\n",
              "  </thead>\n",
              "  <tbody>\n",
              "    <tr>\n",
              "      <th>0</th>\n",
              "      <td>95.706817</td>\n",
              "      <td>4342</td>\n",
              "      <td>157</td>\n",
              "      <td>7</td>\n",
              "    </tr>\n",
              "    <tr>\n",
              "      <th>1</th>\n",
              "      <td>108.113421</td>\n",
              "      <td>3271</td>\n",
              "      <td>151</td>\n",
              "      <td>14</td>\n",
              "    </tr>\n",
              "  </tbody>\n",
              "</table>\n",
              "</div>"
            ],
            "text/plain": [
              "        leng_tweet               \n",
              "              mean count  max min\n",
              "target                           \n",
              "0        95.706817  4342  157   7\n",
              "1       108.113421  3271  151  14"
            ]
          },
          "metadata": {
            "tags": []
          },
          "execution_count": 141
        }
      ]
    },
    {
      "cell_type": "code",
      "metadata": {
        "id": "3TVytfA1Gozx",
        "colab_type": "code",
        "outputId": "f72b7222-bcb9-4d4f-a0d8-17b34ff21988",
        "colab": {
          "base_uri": "https://localhost:8080/",
          "height": 316
        }
      },
      "source": [
        "\n",
        "\n",
        "g = sns.boxplot(x=\"target\", y=\"leng_tweet\", data=DF_drop_leng, palette=\"Paired\")\n",
        "g.set_title(\"Longitud tweets Según Veracidad\", fontsize=15)\n",
        "g.set_xlabel(\"target real\", fontsize=10)\n",
        "g.set_ylabel(\"Length\", fontsize=10)\n"
      ],
      "execution_count": 142,
      "outputs": [
        {
          "output_type": "execute_result",
          "data": {
            "text/plain": [
              "Text(0, 0.5, 'Length')"
            ]
          },
          "metadata": {
            "tags": []
          },
          "execution_count": 142
        },
        {
          "output_type": "display_data",
          "data": {
            "image/png": "[encoded data removed]",
            "text/plain": [
              "<Figure size 432x288 with 1 Axes>"
            ]
          },
          "metadata": {
            "tags": [],
            "needs_background": "light"
          }
        }
      ]
    },
    {
      "cell_type": "code",
      "metadata": {
        "id": "R13DiV0fSLFb",
        "colab_type": "code",
        "outputId": "decc846b-bb1e-4641-865a-fe88a0cb7acf",
        "colab": {
          "base_uri": "https://localhost:8080/",
          "height": 168
        }
      },
      "source": [
        "# analizo algunas variables estadisticas\n",
        "\n",
        "gr_by_target = key_top_39.groupby(['target']).agg({'leng_tweet': ['mean', 'count', 'max' , 'min']})\n",
        "gr_by_target.head()"
      ],
      "execution_count": 143,
      "outputs": [
        {
          "output_type": "execute_result",
          "data": {
            "text/html": [
              "<div>\n",
              "<style scoped>\n",
              "    .dataframe tbody tr th:only-of-type {\n",
              "        vertical-align: middle;\n",
              "    }\n",
              "\n",
              "    .dataframe tbody tr th {\n",
              "        vertical-align: top;\n",
              "    }\n",
              "\n",
              "    .dataframe thead tr th {\n",
              "        text-align: left;\n",
              "    }\n",
              "\n",
              "    .dataframe thead tr:last-of-type th {\n",
              "        text-align: right;\n",
              "    }\n",
              "</style>\n",
              "<table border=\"1\" class=\"dataframe\">\n",
              "  <thead>\n",
              "    <tr>\n",
              "      <th></th>\n",
              "      <th colspan=\"4\" halign=\"left\">leng_tweet</th>\n",
              "    </tr>\n",
              "    <tr>\n",
              "      <th></th>\n",
              "      <th>mean</th>\n",
              "      <th>count</th>\n",
              "      <th>max</th>\n",
              "      <th>min</th>\n",
              "    </tr>\n",
              "    <tr>\n",
              "      <th>target</th>\n",
              "      <th></th>\n",
              "      <th></th>\n",
              "      <th></th>\n",
              "      <th></th>\n",
              "    </tr>\n",
              "  </thead>\n",
              "  <tbody>\n",
              "    <tr>\n",
              "      <th>0</th>\n",
              "      <td>98.564341</td>\n",
              "      <td>645</td>\n",
              "      <td>148</td>\n",
              "      <td>17</td>\n",
              "    </tr>\n",
              "    <tr>\n",
              "      <th>1</th>\n",
              "      <td>110.044304</td>\n",
              "      <td>474</td>\n",
              "      <td>147</td>\n",
              "      <td>19</td>\n",
              "    </tr>\n",
              "  </tbody>\n",
              "</table>\n",
              "</div>"
            ],
            "text/plain": [
              "        leng_tweet               \n",
              "              mean count  max min\n",
              "target                           \n",
              "0        98.564341   645  148  17\n",
              "1       110.044304   474  147  19"
            ]
          },
          "metadata": {
            "tags": []
          },
          "execution_count": 143
        }
      ]
    },
    {
      "cell_type": "markdown",
      "metadata": {
        "id": "0QEUzNh0TiMW",
        "colab_type": "text"
      },
      "source": [
        "## Análisis por Keyword"
      ]
    },
    {
      "cell_type": "code",
      "metadata": {
        "id": "paN5l5kXMeSG",
        "colab_type": "code",
        "outputId": "d1315404-3c06-47c1-81e0-051d494a9d36",
        "colab": {
          "base_uri": "https://localhost:8080/",
          "height": 254
        }
      },
      "source": [
        "key = df_twitter['keyword']\n",
        "print(key.value_counts().sum()) # Cantidad de Tweets con keyword\n",
        "print(key.value_counts()) # Cantidad de Categorías\n"
      ],
      "execution_count": 144,
      "outputs": [
        {
          "output_type": "stream",
          "text": [
            "7552\n",
            "fatalities               45\n",
            "armageddon               42\n",
            "deluge                   42\n",
            "sinking                  41\n",
            "body%20bags              41\n",
            "                         ..\n",
            "forest%20fire            19\n",
            "epicentre                12\n",
            "threat                   11\n",
            "inundation               10\n",
            "radiation%20emergency     9\n",
            "Name: keyword, Length: 221, dtype: int64\n"
          ],
          "name": "stdout"
        }
      ]
    },
    {
      "cell_type": "code",
      "metadata": {
        "id": "HOzANTDJvSP0",
        "colab_type": "code",
        "outputId": "94d921a5-11d6-409f-b205-aeb6df80ce6d",
        "colab": {
          "base_uri": "https://localhost:8080/",
          "height": 235
        }
      },
      "source": [
        "key_counts = DF_drop_leng['keyword'].value_counts()\n",
        "key_counts[key_counts > key_counts.mean()]"
      ],
      "execution_count": 145,
      "outputs": [
        {
          "output_type": "execute_result",
          "data": {
            "text/plain": [
              "fatalities             45\n",
              "armageddon             42\n",
              "deluge                 42\n",
              "sinking                41\n",
              "body%20bags            41\n",
              "                       ..\n",
              "flood                  35\n",
              "hazardous              35\n",
              "airplane%20accident    35\n",
              "traumatised            35\n",
              "inundated              35\n",
              "Name: keyword, Length: 114, dtype: int64"
            ]
          },
          "metadata": {
            "tags": []
          },
          "execution_count": 145
        }
      ]
    },
    {
      "cell_type": "markdown",
      "metadata": {
        "id": "6evmh6XMUsV8",
        "colab_type": "text"
      },
      "source": [
        "Me quedo con los keywords con mas de 39 ocurrencias\n"
      ]
    },
    {
      "cell_type": "code",
      "metadata": {
        "id": "ssx5bqKpMeVQ",
        "colab_type": "code",
        "colab": {}
      },
      "source": [
        "key_top_39 = DF_drop_leng.groupby(\"keyword\").filter(lambda x: len(x) >= 39)"
      ],
      "execution_count": 0,
      "outputs": []
    },
    {
      "cell_type": "code",
      "metadata": {
        "id": "rNdDJ-vJWn-B",
        "colab_type": "code",
        "outputId": "539d222e-2620-4314-c927-0ace0f8e13d7",
        "colab": {
          "base_uri": "https://localhost:8080/",
          "height": 272
        }
      },
      "source": [
        "print(key_top_39)"
      ],
      "execution_count": 147,
      "outputs": [
        {
          "output_type": "stream",
          "text": [
            "         id     keyword  ... target  leng_tweet\n",
            "304     446  armageddon  ...      0          91\n",
            "305     447  armageddon  ...      0          94\n",
            "306     448  armageddon  ...      0         120\n",
            "307     450  armageddon  ...      0          35\n",
            "308     451  armageddon  ...      0          65\n",
            "...     ...         ...  ...    ...         ...\n",
            "7578  10830     wrecked  ...      0          48\n",
            "7579  10831     wrecked  ...      0         107\n",
            "7580  10832     wrecked  ...      0          93\n",
            "7581  10833     wrecked  ...      0         104\n",
            "7582  10834     wrecked  ...      0          80\n",
            "\n",
            "[1119 rows x 5 columns]\n"
          ],
          "name": "stdout"
        }
      ]
    },
    {
      "cell_type": "code",
      "metadata": {
        "id": "yNrp8hQpEIhG",
        "colab_type": "code",
        "outputId": "fce177ae-a127-4447-fa4b-10a47a037e96",
        "colab": {
          "base_uri": "https://localhost:8080/",
          "height": 415
        }
      },
      "source": [
        "key_top_39['keyword'].value_counts().sort_index().plot(kind='bar', figsize=(15,5))\n",
        "plt.title('Frecuencia de Keywords con mayor a 39 entradas')\n"
      ],
      "execution_count": 148,
      "outputs": [
        {
          "output_type": "execute_result",
          "data": {
            "text/plain": [
              "Text(0.5, 1.0, 'Frecuencia de Keywords con mayor a 39 entradas')"
            ]
          },
          "metadata": {
            "tags": []
          },
          "execution_count": 148
        },
        {
          "output_type": "display_data",
          "data": {
            "image/png": "[encoded data removed]",
            "text/plain": [
              "<Figure size 1080x360 with 1 Axes>"
            ]
          },
          "metadata": {
            "tags": [],
            "needs_background": "light"
          }
        }
      ]
    },
    {
      "cell_type": "code",
      "metadata": {
        "id": "1I7Ih58bfPx1",
        "colab_type": "code",
        "colab": {}
      },
      "source": [
        "# analizo algunas variables estadisticas\n",
        "\n",
        "gr_by_keyword1 = (key_top_39 [key_top_39['target'] == 0]).groupby(['keyword']).agg({'target': ['mean', 'count', 'max' , 'min']})\n",
        "gr_by_keyword1= gr_by_keyword1.target #Eliminando el multi-index\n"
      ],
      "execution_count": 0,
      "outputs": []
    },
    {
      "cell_type": "code",
      "metadata": {
        "id": "0pDh7_tdfarF",
        "colab_type": "code",
        "outputId": "7b675ac4-90a0-4efc-f02c-d8c71aa44ba9",
        "colab": {
          "base_uri": "https://localhost:8080/",
          "height": 378
        }
      },
      "source": [
        "gr_by_keyword2 = (key_top_39[key_top_39['target'] == 1]).groupby(['keyword']).agg({'target': [ 'count', 'max' , 'min']})\n",
        "gr_by_keyword2= gr_by_keyword2.target #Eliminando el multi-index\n",
        "gr_by_keyword2.head(10)\n"
      ],
      "execution_count": 150,
      "outputs": [
        {
          "output_type": "execute_result",
          "data": {
            "text/html": [
              "<div>\n",
              "<style scoped>\n",
              "    .dataframe tbody tr th:only-of-type {\n",
              "        vertical-align: middle;\n",
              "    }\n",
              "\n",
              "    .dataframe tbody tr th {\n",
              "        vertical-align: top;\n",
              "    }\n",
              "\n",
              "    .dataframe thead th {\n",
              "        text-align: right;\n",
              "    }\n",
              "</style>\n",
              "<table border=\"1\" class=\"dataframe\">\n",
              "  <thead>\n",
              "    <tr style=\"text-align: right;\">\n",
              "      <th></th>\n",
              "      <th>count</th>\n",
              "      <th>max</th>\n",
              "      <th>min</th>\n",
              "    </tr>\n",
              "    <tr>\n",
              "      <th>keyword</th>\n",
              "      <th></th>\n",
              "      <th></th>\n",
              "      <th></th>\n",
              "    </tr>\n",
              "  </thead>\n",
              "  <tbody>\n",
              "    <tr>\n",
              "      <th>armageddon</th>\n",
              "      <td>5</td>\n",
              "      <td>1</td>\n",
              "      <td>1</td>\n",
              "    </tr>\n",
              "    <tr>\n",
              "      <th>body%20bags</th>\n",
              "      <td>1</td>\n",
              "      <td>1</td>\n",
              "      <td>1</td>\n",
              "    </tr>\n",
              "    <tr>\n",
              "      <th>collided</th>\n",
              "      <td>23</td>\n",
              "      <td>1</td>\n",
              "      <td>1</td>\n",
              "    </tr>\n",
              "    <tr>\n",
              "      <th>collision</th>\n",
              "      <td>29</td>\n",
              "      <td>1</td>\n",
              "      <td>1</td>\n",
              "    </tr>\n",
              "    <tr>\n",
              "      <th>damage</th>\n",
              "      <td>19</td>\n",
              "      <td>1</td>\n",
              "      <td>1</td>\n",
              "    </tr>\n",
              "    <tr>\n",
              "      <th>deluge</th>\n",
              "      <td>6</td>\n",
              "      <td>1</td>\n",
              "      <td>1</td>\n",
              "    </tr>\n",
              "    <tr>\n",
              "      <th>derailment</th>\n",
              "      <td>39</td>\n",
              "      <td>1</td>\n",
              "      <td>1</td>\n",
              "    </tr>\n",
              "    <tr>\n",
              "      <th>earthquake</th>\n",
              "      <td>30</td>\n",
              "      <td>1</td>\n",
              "      <td>1</td>\n",
              "    </tr>\n",
              "    <tr>\n",
              "      <th>evacuate</th>\n",
              "      <td>25</td>\n",
              "      <td>1</td>\n",
              "      <td>1</td>\n",
              "    </tr>\n",
              "    <tr>\n",
              "      <th>explosion</th>\n",
              "      <td>20</td>\n",
              "      <td>1</td>\n",
              "      <td>1</td>\n",
              "    </tr>\n",
              "  </tbody>\n",
              "</table>\n",
              "</div>"
            ],
            "text/plain": [
              "             count  max  min\n",
              "keyword                     \n",
              "armageddon       5    1    1\n",
              "body%20bags      1    1    1\n",
              "collided        23    1    1\n",
              "collision       29    1    1\n",
              "damage          19    1    1\n",
              "deluge           6    1    1\n",
              "derailment      39    1    1\n",
              "earthquake      30    1    1\n",
              "evacuate        25    1    1\n",
              "explosion       20    1    1"
            ]
          },
          "metadata": {
            "tags": []
          },
          "execution_count": 150
        }
      ]
    },
    {
      "cell_type": "code",
      "metadata": {
        "id": "-rabCX3YjHft",
        "colab_type": "code",
        "outputId": "dcd3a28a-534f-4922-f3a4-7feb870f4fdd",
        "colab": {
          "base_uri": "https://localhost:8080/",
          "height": 902
        }
      },
      "source": [
        "type(gr_by_keyword1['count'])\n",
        "rate_of_truthfulnes = pd.concat([gr_by_keyword1['count'], gr_by_keyword2['count']], axis = 1, keys = ['fake','truth'])\n",
        "rate_of_truthfulnes['total'] = rate_of_truthfulnes.fake+rate_of_truthfulnes.truth\n",
        "rate_of_truthfulnes['%'] = rate_of_truthfulnes.truth/rate_of_truthfulnes.total\n",
        "\n",
        "print(rate_of_truthfulnes)\n",
        "\n",
        "labels = key_top_39['keyword'].drop_duplicates()\n",
        "fake = rate_of_truthfulnes.fake\n",
        "truth = rate_of_truthfulnes.truth\n",
        "\n",
        "fig, ax = plt.subplots()\n",
        "\n",
        "\n",
        "ax.bar(labels, fake, label='Fake')\n",
        "ax.bar(labels, truth, label='Truth',bottom=fake)\n",
        "plt.xticks(rotation='vertical')\n",
        "xlocs, xlabs = plt.xticks()\n",
        "\n",
        "ax.set_ylabel('Veracidad')\n",
        "ax.set_xlabel('Keyword')\n",
        "ax.set_title('Falsedad o Veracidad del Tweet')\n",
        "ax.legend()\n",
        "\n",
        "\n",
        "\n"
      ],
      "execution_count": 151,
      "outputs": [
        {
          "output_type": "stream",
          "text": [
            "             fake  truth  total         %\n",
            "armageddon   37.0      5   42.0  0.119048\n",
            "body%20bags  40.0      1   41.0  0.024390\n",
            "collided     17.0     23   40.0  0.575000\n",
            "collision    10.0     29   39.0  0.743590\n",
            "damage       22.0     19   41.0  0.463415\n",
            "deluge       36.0      6   42.0  0.142857\n",
            "earthquake    9.0     30   39.0  0.769231\n",
            "evacuate     15.0     25   40.0  0.625000\n",
            "explosion    19.0     20   39.0  0.512821\n",
            "famine       13.0     26   39.0  0.666667\n",
            "fatalities   19.0     26   45.0  0.577778\n",
            "fear         35.0      5   40.0  0.125000\n",
            "flames       26.0     13   39.0  0.333333\n",
            "harm         37.0      4   41.0  0.097561\n",
            "hellfire     32.0      7   39.0  0.179487\n",
            "outbreak      1.0     39   40.0  0.975000\n",
            "sinkhole     12.0     27   39.0  0.692308\n",
            "sinking      33.0      8   41.0  0.195122\n",
            "siren        35.0      5   40.0  0.125000\n",
            "sunk         30.0      9   39.0  0.230769\n",
            "twister      35.0      5   40.0  0.125000\n",
            "weapon       25.0     14   39.0  0.358974\n",
            "weapons      22.0     17   39.0  0.435897\n",
            "whirlwind    25.0     14   39.0  0.358974\n",
            "windstorm    24.0     16   40.0  0.400000\n",
            "wrecked      36.0      3   39.0  0.076923\n",
            "derailment    NaN     39    NaN       NaN\n",
            "wreckage      NaN     39    NaN       NaN\n"
          ],
          "name": "stdout"
        },
        {
          "output_type": "execute_result",
          "data": {
            "text/plain": [
              "<matplotlib.legend.Legend at 0x7ffa0c8b3be0>"
            ]
          },
          "metadata": {
            "tags": []
          },
          "execution_count": 151
        },
        {
          "output_type": "display_data",
          "data": {
            "image/png": "[encoded data removed]",
            "text/plain": [
              "<Figure size 432x288 with 1 Axes>"
            ]
          },
          "metadata": {
            "tags": [],
            "needs_background": "light"
          }
        }
      ]
    },
    {
      "cell_type": "markdown",
      "metadata": {
        "id": "wPRTvEy1Ge6h",
        "colab_type": "text"
      },
      "source": [
        "#Más mencionados según veracidad"
      ]
    },
    {
      "cell_type": "code",
      "metadata": {
        "id": "N4OII2cvoQaS",
        "colab_type": "code",
        "colab": {}
      },
      "source": [
        "df_twitter['target'].fillna(0)\n",
        "sText = df_twitter['text']\n",
        "sTarget = df_twitter['target']\n",
        "\n",
        "#Busco todas las menciones de los usuarios\n",
        "exp = '@[_a-zA-Z]{2,16}'\n",
        "mention_on_real_tw = {}\n",
        "j=0;\n",
        "for i in range(len(sText)):\n",
        "    if(len(re.findall(exp,sText[i]))>1 and sTarget[i]==1):\n",
        "        mention_on_real_tw[j] = re.findall(exp,sText[i])\n",
        "        j+=1\n",
        "\n",
        "arrobed_real = {}\n",
        "k= 0\n",
        "for i in range(len(mention_on_real_tw)):\n",
        "    for j in range(len(mention_on_real_tw[i])):\n",
        "        arrobed_real[k] = mention_on_real_tw[i][j]\n",
        "        k+=1\n",
        "\n",
        "        \n",
        "        \n",
        "mention_on_fake_tw  ={}\n",
        "j=0;\n",
        "for i in range(len(sText)):\n",
        "    if(len(re.findall(exp,sText[i]))>1 and sTarget[i]==0):\n",
        "        mention_on_fake_tw[j] = re.findall(exp,sText[i])\n",
        "        j+=1\n",
        "        \n",
        "arrobed_fake = {}\n",
        "k= 0\n",
        "for i in range(len(mention_on_fake_tw)):\n",
        "    for j in range(len(mention_on_fake_tw[i])):\n",
        "        arrobed_fake[k] = mention_on_fake_tw[i][j]\n",
        "        k+=1\n",
        "        \n",
        "        \n",
        "pdReal = pd.DataFrame.from_dict(arrobed_real, orient='index', columns=['mentionReal',])\n",
        "pdFake = pd.DataFrame.from_dict(arrobed_fake, orient='index', columns=['mentionFake',])"
      ],
      "execution_count": 0,
      "outputs": []
    },
    {
      "cell_type": "code",
      "metadata": {
        "id": "9WW17oUsbR1k",
        "colab_type": "code",
        "outputId": "1be39a1c-209a-4c2d-e270-1c9c92d84b02",
        "colab": {
          "base_uri": "https://localhost:8080/",
          "height": 389
        }
      },
      "source": [
        "ax = pdReal['mentionReal'].value_counts().iloc[:9].plot(kind='bar')\n",
        "ax.set_ylabel('Menciones')\n",
        "ax.set_xlabel('Usuarios mencionados')\n",
        "ax.set_title('Usuarios Mencionados Ante Tweets Veraces')\n"
      ],
      "execution_count": 153,
      "outputs": [
        {
          "output_type": "execute_result",
          "data": {
            "text/plain": [
              "Text(0.5, 1.0, 'Usuarios Mencionados Ante Tweets Veraces')"
            ]
          },
          "metadata": {
            "tags": []
          },
          "execution_count": 153
        },
        {
          "output_type": "display_data",
          "data": {
            "image/png": "[encoded data removed]",
            "text/plain": [
              "<Figure size 432x288 with 1 Axes>"
            ]
          },
          "metadata": {
            "tags": [],
            "needs_background": "light"
          }
        }
      ]
    },
    {
      "cell_type": "code",
      "metadata": {
        "id": "fFPVSHprWpdM",
        "colab_type": "code",
        "outputId": "427cf6b1-bd04-440a-839e-1b3b94bf789a",
        "colab": {
          "base_uri": "https://localhost:8080/",
          "height": 396
        }
      },
      "source": [
        "ax = pdFake['mentionFake'].value_counts().iloc[:9].plot(kind='bar')\n",
        "ax.set_title('Usuarios Mencionados Ante Tweets Falsos')\n",
        "ax.set_ylabel('Menciones')\n",
        "ax.set_xlabel('Usuarios mencionados')\n"
      ],
      "execution_count": 154,
      "outputs": [
        {
          "output_type": "execute_result",
          "data": {
            "text/plain": [
              "Text(0.5, 0, 'Usuarios mencionados')"
            ]
          },
          "metadata": {
            "tags": []
          },
          "execution_count": 154
        },
        {
          "output_type": "display_data",
          "data": {
            "image/png": "[encoded data removed]",
            "text/plain": [
              "<Figure size 432x288 with 1 Axes>"
            ]
          },
          "metadata": {
            "tags": [],
            "needs_background": "light"
          }
        }
      ]
    },
    {
      "cell_type": "markdown",
      "metadata": {
        "id": "ZsUxMQg1qREb",
        "colab_type": "text"
      },
      "source": [
        "Análisis Heatmap"
      ]
    },
    {
      "cell_type": "code",
      "metadata": {
        "id": "dlcG6S1xlZv_",
        "colab_type": "code",
        "colab": {
          "base_uri": "https://localhost:8080/",
          "height": 192
        },
        "outputId": "c35feab0-cd54-4f9d-e5c3-4dff3ad92557"
      },
      "source": [
        "\n",
        "my_base = pd.concat([DF_drop_leng['leng_tweet'], sTarget], axis=1, join='inner')\n",
        "correlation_matrix = my_base.corr(method='spearman')\n",
        "correlation_matrix\n",
        "figure_size = (2, 2)\n",
        "fig, ax = plt.subplots(figsize=figure_size)\n",
        "\n",
        "sns.heatmap(correlation_matrix, xticklabels=list(correlation_matrix), yticklabels=list(correlation_matrix),\n",
        "            annot=True, fmt='.1f', linewidths = 0.5, ax=ax).set_title(\"Heatmap - Longitud del Tweet y Veracidad\")\n"
      ],
      "execution_count": 162,
      "outputs": [
        {
          "output_type": "execute_result",
          "data": {
            "text/plain": [
              "Text(0.5, 1.0, 'Heatmap - Longitud del Tweet y Veracidad')"
            ]
          },
          "metadata": {
            "tags": []
          },
          "execution_count": 162
        },
        {
          "output_type": "display_data",
          "data": {
            "image/png": "[encoded data removed]",
            "text/plain": [
              "<Figure size 144x144 with 2 Axes>"
            ]
          },
          "metadata": {
            "tags": [],
            "needs_background": "light"
          }
        }
      ]
    }
  ]
}